{
 "cells": [
  {
   "cell_type": "markdown",
   "metadata": {},
   "source": [
    "# Behavior Cloning \n",
    "## 1. 데이터 수집"
   ]
  },
  {
   "cell_type": "markdown",
   "metadata": {},
   "source": [
    "우선적으로 실험해볼 방식은 모방학습이다. 사람이 직접 게임을 플레이하는 모습을 데이터로 수집하고, 이를 인공지능 모델이 학습하도록한다. 학습된 모델은 사람의 플레이를 모방된 형태로 게임을 플레이한다. \n",
    "이를 위해 모델은 어떠한 상황(env)에서 어떠한 선택(action)해야 하는지를 알아야한다. 따라서 아래와 같은 형태로 데이터를 수집하고자 한다.\n",
    "- 상황(env) : 자동차가 나아가야할 도로의 모양이 보이는 이미지\n",
    "- 선택(action) : 사람의 입력(up, down, left, right)\n",
    "예시) 예시 사진 넣기"
   ]
  },
  {
   "cell_type": "markdown",
   "metadata": {},
   "source": [
    "## 2. Box2D Car Racing 코드 수정"
   ]
  },
  {
   "cell_type": "markdown",
   "metadata": {},
   "source": [
    "데이터를 수집하기 위해서 기존의 [코드](https://github.com/openai/gym/blob/master/gym/envs/box2d/car_racing.py)에서 동작의 핵심이 되는 코드만을 남겨둔 채, 모두 정리한다. 또한 데이터의 수집을 위하여, 각 키보드의 입력에 라벨을 부여한다.\n",
    "- 입력 없음 : 0\n",
    "- key right : 1\n",
    "- key left : 2\n",
    "- key up : 3\n",
    "- key down : 4\n",
    "최종적으로 수정된 코드는 Record_Human_Control.py에서 확인할 수 있다."
   ]
  },
  {
   "cell_type": "markdown",
   "metadata": {},
   "source": [
    "## 3. 코드 실행\n",
    "Record_Human_Control.py의 72번째 줄 `state_image.save(\"./data/discrete/action_{0}/epi{1}_state{2}_action{3}.png\"...`을 보면, 데이터가 `./data/discrete/action_x` 형태 폴더 아래에 저장됨을 알 수 있다.\n",
    "\n",
    "코드를 실행시키기 전에 아래 구조와 같이 새로운 폴더들을 생성하자.\n",
    "\n",
    "|____(코드 실행 위치 폴더)\n",
    "\n",
    "&ensp;&ensp;|___data\n",
    "\n",
    "&emsp;&emsp;|___discrete\n",
    "\n",
    "&emsp;&emsp;&emsp;|__action_0\n",
    "\n",
    "&emsp;&emsp;&emsp;|__action_1\n",
    "\n",
    "&emsp;&emsp;&emsp;|__action_2\n",
    "\n",
    "&emsp;&emsp;&emsp;|__action_3\n",
    "        \n",
    "&emsp;&emsp;&emsp;|__action_4\n",
    "        \n",
    "이후 코드를 실행하여 게임을 여러번 반복 플레이하여 데이터를 수집한다."
   ]
  },
  {
   "cell_type": "markdown",
   "metadata": {},
   "source": [
    "## 4. 데이터 증대"
   ]
  },
  {
   "cell_type": "markdown",
   "metadata": {},
   "source": [
    "학습의 용이를 위해 각 action에 대한 데이터 개수를 균등하도록 조절한다. 데이터를 수집한 결과, action_0(아무 입력x)과 action_3(나아가기, 가스)이 다른 action들보다 훨씬 많은 수가 수집되었다.\n",
    "\n",
    "따라서 Data Augmentation을 통해 부족한 수의 데이터를 보충하고자 한다.\n",
    "\n",
    "- action_1(오른쪽)과 action_2(왼쪽)은 커브 방향과 연관이 되어 있는 것이므로 이미지를 좌우 반전하여 각 데이터로 활용한다.\n",
    "\n",
    "- "
   ]
  },
  {
   "cell_type": "markdown",
   "metadata": {},
   "source": [
    "### 4-1. 이미지 좌우 반전"
   ]
  },
  {
   "cell_type": "code",
   "execution_count": null,
   "metadata": {
    "vscode": {
     "languageId": "plaintext"
    }
   },
   "outputs": [],
   "source": []
  },
  {
   "cell_type": "markdown",
   "metadata": {},
   "source": [
    "## 5. 모델 학습"
   ]
  },
  {
   "cell_type": "markdown",
   "metadata": {},
   "source": [
    "## 6. 결과"
   ]
  }
 ],
 "metadata": {
  "kernelspec": {
   "display_name": "carRacing",
   "language": "python",
   "name": "python3"
  },
  "language_info": {
   "name": "python",
   "version": "3.9.12"
  }
 },
 "nbformat": 4,
 "nbformat_minor": 2
}
