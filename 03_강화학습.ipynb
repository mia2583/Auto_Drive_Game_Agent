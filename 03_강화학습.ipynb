{
 "cells": [
  {
   "cell_type": "markdown",
   "metadata": {},
   "source": [
    "# 강화학습\n",
    "[참고1](https://aws.amazon.com/ko/what-is/reinforcement-learning/),\n",
    "[참고2](https://brunch.co.kr/@namujini/22),\n",
    "[참고3](https://blog.naver.com/shakey7/221536422960), [참고4](https://julie-tech.tistory.com/69)"
   ]
  },
  {
   "cell_type": "markdown",
   "metadata": {},
   "source": [
    "## 1. 강화학습(Reinforcement Learning)이란?"
   ]
  },
  {
   "cell_type": "markdown",
   "metadata": {},
   "source": [
    "\n",
    "어떤 환경(environment) 안에서 에이전트(agent)가 현재 상태에서 보상(reward)을 최대화하는 방향으로 학습을 하도록 하는 학습 방법이다.\n",
    "\n",
    "    ex) 알파고\n",
    "\n",
    "학습이 진행될수록 에이전트는 가장 큰 보상을 얻기 위한 정책(policy)를 학습한다. 이때 정책이란, 주어진 상태에서 어떠한 행동(action)을 해야하는지를 정의한다."
   ]
  },
  {
   "cell_type": "markdown",
   "metadata": {},
   "source": [
    "## 2. 강화학습의 알고리즘"
   ]
  },
  {
   "cell_type": "markdown",
   "metadata": {},
   "source": [
    "강화학습은 일반적으로 아래와 같은 순서로 학습을 진행한다.\n",
    "1. agent는 주어진 환경의 현재 상태를 관찰하여 행동(action)을 취한다.\n",
    "  - 보통 학습한 정책을 바탕으로 action을 선택하지만 정책이 불완전한 초기에는 보통 랜덤한 방식으로 action을 취한다.\n",
    "  - 보상을 최대화하는 행동을 수행하기 위해서는 이용(exploitation)과 탐험(exploration)이 균형을 이루어야한다.\n",
    "\n",
    "    이용(exploitation)이란 현재까지의 경험을 바탕으로, 현재 상태에서 가장 큰 보상을 얻을 수 있는 행동을 수행하는 것이다. 반면에 탐험(exploration)이란 다양한 경험을 위해 새로운 시도를 하는 것이다. 탐험이 더 좋은 보상을 이끌어낼 수도 있고, 더 적은 보상을 얻을 수 있기 때문에 탐험과 이용 사이의 적절한 균형이 중요하다.\n",
    "\n",
    "2. 행동에 의해 환경의 상태가 변하게 되면서 agent는 그에 따른 보상(reward)을 받는다.\n",
    "3. Agent는 보상을 최대화시키는 방향으로 행동을 취하도록 학습한다."
   ]
  },
  {
   "cell_type": "markdown",
   "metadata": {},
   "source": [
    "## 3. 강화학습의 장점"
   ]
  },
  {
   "cell_type": "markdown",
   "metadata": {},
   "source": [
    "강화학습은 인간이 시행착오를 통해 학습하는 과정을 모방한 학습 기법이다.\n",
    "1. 복잡한 환경에서 탁월하다\n",
    "\n",
    "    강화학습 모델의 정책은 계속해서 변화하는 환경에도 빠르게 적응하고 최적화할 수 있는 방안을 찾는다.\n",
    "2. 학습에 필요한 데이터를 능동적으로 얻기 때문에 데이터를 준비할 필요가 없다.\n",
    "\n",
    "    하지만 반대로 각 환경 상태에 대한 정의, 보상에 대한 것은 사람이 정의해야하므로, 강화학습이 잘되도록 디자인하는 것이 어렵다는 단점이 있다."
   ]
  }
 ],
 "metadata": {
  "language_info": {
   "name": "python"
  }
 },
 "nbformat": 4,
 "nbformat_minor": 2
}
